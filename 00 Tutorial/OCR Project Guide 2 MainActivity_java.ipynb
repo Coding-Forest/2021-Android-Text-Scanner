{
  "nbformat": 4,
  "nbformat_minor": 0,
  "metadata": {
    "colab": {
      "name": "OCR Project Guide 2 MainActivity_java.ipynb",
      "provenance": [],
      "collapsed_sections": []
    },
    "kernelspec": {
      "name": "python3",
      "display_name": "Python 3"
    },
    "language_info": {
      "name": "python"
    }
  },
  "cells": [
    {
      "cell_type": "markdown",
      "metadata": {
        "id": "Ip5HnCXmPRUF"
      },
      "source": [
        "# Project Guide 2 `MainActivity.java`"
      ]
    },
    {
      "cell_type": "markdown",
      "metadata": {
        "id": "dQPsuoCHjzNL"
      },
      "source": [
        "### **Notes and References**\n",
        "\n",
        "Hi. I'm currently learning android development and this is my personal learning notebook. \n",
        "\n",
        "All the code is from Coding with Evan and you can watch the original tutorial in the below link. Have fun learning :) !\n",
        "\n",
        "https://www.youtube.com/watch?v=sjkDbxyoNW0&ab_channel=CodingWithEvan"
      ]
    },
    {
      "cell_type": "markdown",
      "metadata": {
        "id": "KH1SNs7ms7f6"
      },
      "source": [
        "# New Functions & Concepts\n",
        "- Request Permission\n",
        "    - `ContextCompat.checkSelfPermission`\n",
        "    - `ActivityCompat.requestPermissions`\n",
        "- `android:layout_alignParentBottom=\"true\"`>\n"
      ]
    },
    {
      "cell_type": "markdown",
      "metadata": {
        "id": "gjUk9HGMklwN"
      },
      "source": [
        "# 2. `MainActivity.java`\n"
      ]
    },
    {
      "cell_type": "markdown",
      "metadata": {
        "id": "GpaZ2svwxSiE"
      },
      "source": [
        "### MA 1) Wire UI components in `.java`\n",
        "\n",
        "- Declare the variables\n",
        "- Bring them to life by initialising them in `onCreate`"
      ]
    },
    {
      "cell_type": "code",
      "metadata": {
        "id": "OE583LBJvunr"
      },
      "source": [
        "public class MainActivity extends AppCompatActivity {\n",
        "\n",
        "    # Wire the components we created in UI (activity_main.xml) here in java code.\n",
        "    Button button_capture, button_copy;\n",
        "    TextView textview_data;      # \"Hello! Take a photo or choose an image from your gallery for OCR.\"\n",
        "\n",
        "    @Override\n",
        "    protected void onCreate(Bundle savedInstanceState) {\n",
        "        super.onCreate(savedInstanceState);\n",
        "        setContentView(R.layout.activity_main);\n",
        "\n",
        "        # Initialise the wired (imported) variables.\n",
        "        button_capture = findViewById(R.id.button_capture);\n",
        "        button_copy = findViewById(R.id.button_copy);\n",
        "        textview_data = findViewById(R.id.text_data);"
      ],
      "execution_count": null,
      "outputs": []
    },
    {
      "cell_type": "markdown",
      "metadata": {
        "id": "zmCV8ecAxgAV"
      },
      "source": [
        "### MA 2) Configure `permissions` in `AndroidManifest.xml`"
      ]
    },
    {
      "cell_type": "code",
      "metadata": {
        "id": "jkuJw4i5kr5y"
      },
      "source": [
        "<?xml version=\"1.0\" encoding=\"utf-8\"?>\n",
        "<manifest xmlns:android=\"http://schemas.android.com/apk/res/android\"\n",
        "    package=\"com.example.textreaderapp\">\n",
        "\n",
        "    <uses-permission android:name=\"android.permission.CAMERA\"/>\n",
        "\n",
        "    ..."
      ],
      "execution_count": null,
      "outputs": []
    },
    {
      "cell_type": "markdown",
      "metadata": {
        "id": "ZwfoNPTAy3Sx"
      },
      "source": [
        "### MA 3) Request permission"
      ]
    },
    {
      "cell_type": "markdown",
      "metadata": {
        "id": "A4qq-grOy-jO"
      },
      "source": [
        "#### `ActivityCompat`?\n",
        "\n",
        "([Android Documentation](https://developer.android.com/reference/androidx/core/content/ContextCompat))\n",
        "\n",
        "Helper for accessing features in `Context`.\n",
        "\n",
        "<br/>\n",
        "\n",
        "---\n",
        "\n",
        "<br/>\n",
        "\n",
        "`ContextCompat()`  \n",
        "**Protected constructors**: This class should not be instantiated, but the constructor must be visible for the class to be extended."
      ]
    },
    {
      "cell_type": "code",
      "metadata": {
        "id": "IzNdxbhIy9qo"
      },
      "source": [
        "        # We are going to use the camera to capture images to perform OCR.\n",
        "        # We need the permission to access camera.\n",
        "           # first configure permission to camera in AndroidManifest.xml\n",
        "\n",
        "        # # this method here handles the runtime permission.\n",
        "        # If permission is not granted,\n",
        "        if (ContextCompat.checkSelfPermission(MainActivity.this, Manifest.permission.CAMERA)\n",
        "                != PackageManager.PERMISSION_GRANTED) {\n",
        "            ActivityCompat.requestPermissions(MainActivity.this, new String[]{\n",
        "                    Manifest.permission.CAMERA\n",
        "            }, REQUEST_CAMERA_CODE);\n",
        "        }"
      ],
      "execution_count": null,
      "outputs": []
    },
    {
      "cell_type": "markdown",
      "metadata": {
        "id": "K914bh8X3aN-"
      },
      "source": [
        "### MA 4) `button_capture`\n",
        "\n",
        "- Call the Crop Image library we imported in the dependencies.\n",
        "- This allows the CropImage activity;\n",
        "- or the user to click anywhere in the camera or select from the gallery and crop the image.."
      ]
    },
    {
      "cell_type": "code",
      "metadata": {
        "id": "0thZOao5-RuD"
      },
      "source": [
        "        ...\n",
        "\n",
        "        button_capture.setOnClickListener(new View.OnClickListener() {\n",
        "            @Override\n",
        "            public void onClick(View v) {\n",
        "                CropImage.activity().setGuidelines(CropImageView.Guidelines.ON).start(MainActivity.this);\n",
        "                # Capture image result in the next method.\n",
        "            }\n",
        "        });\n",
        "\n",
        "    ...\n",
        "\n",
        "    }"
      ],
      "execution_count": null,
      "outputs": []
    },
    {
      "cell_type": "markdown",
      "metadata": {
        "id": "wRjQjiiN2V4d"
      },
      "source": [
        "### MA 5) `Crop-Image` library\n",
        "\n"
      ]
    },
    {
      "cell_type": "markdown",
      "metadata": {
        "id": "Xhy59y6T3tgk"
      },
      "source": [
        "#### i. Import library to `Manifest.xml`\n",
        "\n",
        "https://github.com/ArthurHub/Android-Image-Cropper#using-activity"
      ]
    },
    {
      "cell_type": "code",
      "metadata": {
        "id": "wEQqdhUk2bdx"
      },
      "source": [
        "<?xml version=\"1.0\" encoding=\"utf-8\"?>\n",
        "<manifest xmlns:android= ...\n",
        "\n",
        "    <uses-permission android:name=\"android.permission.CAMERA\"/>\n",
        "\n",
        "    <application\n",
        "        \n",
        "        ...\n",
        "\n",
        "        <activity\n",
        "        \n",
        "            ...\n",
        "\n",
        "        </activity>\n",
        "\n",
        "        <<activity android:name=\"com.theartofdev.edmodo.cropper.CropImageActivity\"/>\n",
        "        \n",
        "    </application>\n",
        "\n",
        "</manifest>"
      ],
      "execution_count": null,
      "outputs": []
    },
    {
      "cell_type": "markdown",
      "metadata": {
        "id": "2UTQyDnJHsV9"
      },
      "source": [
        "### MA 6) `onActivityResult`"
      ]
    },
    {
      "cell_type": "code",
      "metadata": {
        "id": "AoQhbjwEHssv"
      },
      "source": [
        "    ...\n",
        "\n",
        "    # to capture the image result, we have to override the onActivity result method..\n",
        "    @Override\n",
        "    protected void onActivityResult(int requestCode, int resultCode, @Nullable Intent data) {\n",
        "        super.onActivityResult(requestCode, resultCode, data);\n",
        "        if (requestCode == CropImage.CROP_IMAGE_ACTIVITY_REQUEST_CODE) {\n",
        "            CropImage.ActivityResult result = CropImage.getActivityResult(data);\n",
        "            if (resultCode == RESULT_OK) {\n",
        "                # create a uri if result is okay.\n",
        "                Uri resultUri = result.getUri();\n",
        "                try {\n",
        "                    # create a bitmap from the uri.\n",
        "                    bitmap = MediaStore.Images.Media.getBitmap(this.getContentResolver(), resultUri);\n",
        "                    # Once we got the bitmap image ready, we can start OCR!\n",
        "\n",
        "                } catch (IOException e) {\n",
        "                    e.printStackTrace();\n",
        "                }\n",
        "            }\n",
        "        }\n",
        "    }\n",
        "\n",
        "    ...\n",
        "\n",
        "}"
      ],
      "execution_count": null,
      "outputs": []
    },
    {
      "cell_type": "markdown",
      "metadata": {
        "id": "dOVm9-Ii8c6A"
      },
      "source": [
        "##### `Toast.LENGTH_SHORT` or `LONG`?\n",
        "\n",
        "*\"Answered here. Like you mentioned Toast.LENGTH_SHORT and Toast.LENGTH_LONG are not in ms but 0 or 1.\"*\n",
        "\n",
        "*The actual durations are:*\n",
        "\n",
        "https://stackoverflow.com/questions/7965135/what-is-the-duration-of-a-toast-length-long-and-length-short"
      ]
    },
    {
      "cell_type": "code",
      "metadata": {
        "id": "YmsxoDwi8nFI"
      },
      "source": [
        "private static final int LONG_DELAY = 3500;    # 3.5 seconds\n",
        "private static final int SHORT_DELAY = 2000;   # 2 seconds"
      ],
      "execution_count": null,
      "outputs": []
    },
    {
      "cell_type": "markdown",
      "metadata": {
        "id": "kQPZaURFHkBN"
      },
      "source": [
        "### MA 7) `getTextFromImage`"
      ]
    },
    {
      "cell_type": "code",
      "metadata": {
        "id": "nyWiaDuFHl9g"
      },
      "source": [
        "    ...\n",
        "\n",
        "    private void getTextFromImage(Bitmap bitmap) {\n",
        "        # Call text recogniser from Google Vision API\n",
        "        TextRecognizer recognizer = new TextRecognizer.Builder(this).build();\n",
        "        if (!recognizer.isOperational()) {\n",
        "            Toast.makeText(MainActivity.this, \"Error Occurred\", Toast.LENGTH_SHORT).show();\n",
        "        }\n",
        "        else {\n",
        "            Frame frame = new Frame.Builder().setBitmap(bitmap).build();\n",
        "            SparseArray<TextBlock> textBlockSparseArray = recognizer.detect(frame);\n",
        "            StringBuilder stringBuilder = new StringBuilder();\n",
        "\n",
        "            for (int i=0; i<textBlockSparseArray.size(); i++){\n",
        "                TextBlock textBlock = textBlockSparseArray.valueAt(i);\n",
        "                stringBuilder.append(textBlock.getValue());\n",
        "                stringBuilder.append(\"\\n\");\n",
        "            }\n",
        "            textview_data.setText(stringBuilder.toString());\n",
        "            # after adding the text to the TV,\n",
        "            # update button text and button_copy visibility.\n",
        "            button_capture.setText(\"Retake\");\n",
        "            button_copy.setVisibility(View.VISIBLE);\n",
        "        }\n",
        "    }\n",
        "\n",
        "    ...\n",
        "\n",
        "}"
      ],
      "execution_count": null,
      "outputs": []
    },
    {
      "cell_type": "markdown",
      "metadata": {
        "id": "8HBcYHEfHZBf"
      },
      "source": [
        "### MA 8) `copyToClipBoard`"
      ]
    },
    {
      "cell_type": "code",
      "metadata": {
        "id": "o9jT5hs0Ha0m"
      },
      "source": [
        "    ...\n",
        "\n",
        "    private void copyToClipBoard(String text){\n",
        "        ClipboardManager clipBoard = (ClipboardManager) getSystemService(Context.CLIPBOARD_SERVICE);\n",
        "        ClipData clip = ClipData.newPlainText(\"Copied data\", text);\n",
        "        clipBoard.setPrimaryClip(clip);\n",
        "        Toast.makeText(MainActivity.this, \"Copied to clipboard!\", Toast.LENGTH_SHORT);\n",
        "    }\n",
        "\n",
        "}"
      ],
      "execution_count": null,
      "outputs": []
    },
    {
      "cell_type": "markdown",
      "metadata": {
        "id": "kRoVd2r6MM_0"
      },
      "source": [
        "### MA 9) `button_capture` & `button_copy`"
      ]
    },
    {
      "cell_type": "code",
      "metadata": {
        "id": "nTgr6jsVLpog"
      },
      "source": [
        "   ...\n",
        "\n",
        "   @Override\n",
        "    protected void onCreate(Bundle savedInstanceState) {\n",
        "        super.onCreate(savedInstanceState);\n",
        "        setContentView(R.layout.activity_main);\n",
        "\n",
        "        ...\n",
        "\n",
        "        button_capture.setOnClickListener(new View.OnClickListener() {\n",
        "            @Override\n",
        "            public void onClick(View v) {\n",
        "                # Call the Crop Image library we imported in the dependencies.\n",
        "                # This allows the CropImage activity;\n",
        "                # or the user to click anywhere in the camera or select from the gallery and crop the image..\n",
        "                CropImage.activity().setGuidelines(CropImageView.Guidelines.ON).start(MainActivity.this);\n",
        "                # Capture image result\n",
        "            }\n",
        "        });\n",
        "\n",
        "        button_copy.setOnClickListener(new View.OnClickListener() {\n",
        "            @Override\n",
        "            public void onClick(View v) {\n",
        "                String scanned_text = textview_data.getText().toString();\n",
        "                copyToClipBoard(scanned_text);\n",
        "\n",
        "            }\n",
        "        });\n",
        "    }"
      ],
      "execution_count": null,
      "outputs": []
    }
  ]
}